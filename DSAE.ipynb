{
 "cells": [
  {
   "cell_type": "code",
   "execution_count": null,
   "metadata": {},
   "outputs": [],
   "source": []
  },
  {
   "cell_type": "code",
   "execution_count": null,
   "metadata": {},
   "outputs": [],
   "source": [
    "def Menu(f):\n",
    "    print(\"Hi! Welcom to the DSAE (Data Science Analysis Error for multiple charged particle modeling programm)\\nThis is mini-prog which helps you to get data from modeling logs\\nand view it different ways you like\\n\\n\\nFirst of all, lets choose the path to logs.\")\n",
    "    \n",
    "    #General settings\n",
    "    try:\n",
    "        path=print(\"Enter the path to your logs repository variationJobs_24Sept2020\\npls, use / (slash)\")\n",
    "    except Exception:\n",
    "        print('SyntaxError')\n",
    "        \n",
    "    #Main menu\n",
    "    import click\n",
    "    \n",
    "        #Full data update\n",
    "        #Partial data update\n",
    "            #...\n",
    "        #View\n",
    "            #full table\n",
    "            #partial table\n",
    "                #...\n",
    "        \n",
    "        \n",
    "    return 0"
   ]
  },
  {
   "cell_type": "code",
   "execution_count": 15,
   "metadata": {},
   "outputs": [],
   "source": [
    "def FileTagPars(filename): # return smth like link. You should use .group(x) (int x=0-3)\n",
    "    import sys             # 0-full sring, 1 - name of variation, 2 - \"M\"+(mass)+\"Z\"+(charge), 3 - difference (flout)\n",
    "    import re\n",
    "    file=open(filename, 'r')\n",
    "    for line in file:\n",
    "        strRE = re.compile(\"AnalysisAlg\\W*INFO\\W*The (.*) variation was applied, so we compare the final efficiencies for (M.*): difference is (.\\d*\\.\\d*)%\")\n",
    "        if strRE.search(line):\n",
    "            return strRE.search(line)\n",
    "        else:\n",
    "            print(\"Error occurred: Variation wasn`t applied. Restart modeling\")\n",
    "            return 0"
   ]
  },
  {
   "cell_type": "code",
   "execution_count": null,
   "metadata": {},
   "outputs": [],
   "source": [
    "def ExportDateInBase(f):\n",
    "    \n",
    "    return 0"
   ]
  },
  {
   "cell_type": "code",
   "execution_count": null,
   "metadata": {},
   "outputs": [],
   "source": [
    "def main():\n",
    "    \n",
    "    path=input(\"enter the path to file, like <D:/Sci/model>\")\n",
    "    err=FileTagPars(path+\"/log-0.out\")\n",
    "\n",
    "\n",
    "main()"
   ]
  },
  {
   "cell_type": "code",
   "execution_count": 14,
   "metadata": {},
   "outputs": [
    {
     "name": "stdout",
     "output_type": "stream",
     "text": [
      "12\n",
      "13\n",
      "14\n",
      "14\n"
     ]
    }
   ],
   "source": [
    "def func():\n",
    "    a, b, c = 12, 13, 14\n",
    "    return a, b, c\n",
    "\n",
    "a, b, c = func()\n",
    "\n",
    "print(a)\n",
    "print(b)\n",
    "print(c)\n",
    "a = func()\n",
    "\n",
    "print(a[2])"
   ]
  },
  {
   "cell_type": "code",
   "execution_count": null,
   "metadata": {},
   "outputs": [],
   "source": []
  },
  {
   "cell_type": "code",
   "execution_count": 4,
   "metadata": {},
   "outputs": [
    {
     "name": "stdout",
     "output_type": "stream",
     "text": [
      "AnalysisAlg              INFO    The \"MUON_ID__1down\" variation was applied, so we compare the final efficiencies for M2000Z2: difference is +0.000251258%\n",
      "\"MUON_ID__1down\"\n",
      "M2000Z2\n",
      "+0.000251258\n"
     ]
    }
   ],
   "source": [
    "def f():\n",
    "    import sys\n",
    "    import re\n",
    "    file=open(\"D:/Users/gree-/Desktop/log-0.out\", 'r')\n",
    "    for line in file:\n",
    "        strRE = re.compile(\"AnalysisAlg\\W*INFO\\W*The (.*) variation was applied, so we compare the final efficiencies for (M.*): difference is (.\\d*\\.\\d*)%\")\n",
    "        if strRE.search(line):\n",
    "            return strRE.search(line)\n",
    "b= f()\n",
    "for i in range(4):\n",
    "    print(str(b.group(i)))\n",
    "    \n",
    "    "
   ]
  },
  {
   "cell_type": "code",
   "execution_count": null,
   "metadata": {},
   "outputs": [],
   "source": []
  },
  {
   "cell_type": "code",
   "execution_count": 16,
   "metadata": {
    "scrolled": true
   },
   "outputs": [],
   "source": [
    "import click\n",
    "\n",
    "@click.command()\n",
    "def g():\n",
    "    print(\"I'm a beautiful CLI \")\n",
    "\n",
    "if __name__ == \"__main__\":\n",
    "    g()"
   ]
  },
  {
   "cell_type": "code",
   "execution_count": null,
   "metadata": {},
   "outputs": [],
   "source": []
  },
  {
   "cell_type": "code",
   "execution_count": null,
   "metadata": {},
   "outputs": [],
   "source": []
  }
 ],
 "metadata": {
  "kernelspec": {
   "display_name": "Python 3",
   "language": "python",
   "name": "python3"
  },
  "language_info": {
   "codemirror_mode": {
    "name": "ipython",
    "version": 3
   },
   "file_extension": ".py",
   "mimetype": "text/x-python",
   "name": "python",
   "nbconvert_exporter": "python",
   "pygments_lexer": "ipython3",
   "version": "3.7.2"
  }
 },
 "nbformat": 4,
 "nbformat_minor": 4
}
